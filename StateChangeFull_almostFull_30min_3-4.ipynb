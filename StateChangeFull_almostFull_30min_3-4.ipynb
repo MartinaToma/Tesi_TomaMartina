{
 "cells": [
  {
   "cell_type": "code",
   "execution_count": 1,
   "id": "excellent-oakland",
   "metadata": {},
   "outputs": [],
   "source": [
    "import time\n",
    "start = time.time()"
   ]
  },
  {
   "cell_type": "code",
   "execution_count": 2,
   "id": "solid-pennsylvania",
   "metadata": {},
   "outputs": [
    {
     "name": "stderr",
     "output_type": "stream",
     "text": [
      "\n",
      "Bad key \"text.kerning_factor\" on line 4 in\n",
      "/opt/anaconda3/envs/bigdatalab_cpu_202101/lib/python3.7/site-packages/matplotlib/mpl-data/stylelib/_classic_test_patch.mplstyle.\n",
      "You probably need to get an updated matplotlibrc file from\n",
      "https://github.com/matplotlib/matplotlib/blob/v3.1.2/matplotlibrc.template\n",
      "or from the matplotlib source distribution\n"
     ]
    }
   ],
   "source": [
    "#IMPORTS\n",
    "from datetime import datetime\n",
    "from pyspark.ml.fpm import PrefixSpan\n",
    "from pyspark.sql import Row\n",
    "import pyspark.sql.functions as F\n",
    "from math import sin, cos, sqrt, atan2, radians \n",
    "import pandas as pd\n",
    "import numpy as np\n",
    "import sys\n",
    "import matplotlib.pyplot as plt\n",
    "import operator"
   ]
  },
  {
   "cell_type": "code",
   "execution_count": 3,
   "id": "hidden-active",
   "metadata": {},
   "outputs": [],
   "source": [
    "#FILES\n",
    "inputPath  = \"dataset_nearest_interpolation.csv\" \n",
    "STATION_PATH=\"/data/students/bigdata-01QYD/Lab7/stations.csv\"\n",
    "#save file of first filter\n",
    "output_file='results_1000_0.txt'\n",
    "output_file2='results_1000_0_QuasiPiena_Piena.txt'\n",
    "output_file3='results_1000_0_diff_delta.txt'\n",
    "img_support='3-4-1000-0.jpg'\n",
    "support=0"
   ]
  },
  {
   "cell_type": "code",
   "execution_count": 4,
   "id": "combined-award",
   "metadata": {},
   "outputs": [],
   "source": [
    "inputDF = spark.read.format(\"csv\")\\\n",
    ".option(\"delimiter\", \",\")\\\n",
    ".option(\"header\", True)\\\n",
    ".option(\"inferSchema\", True).load(inputPath)"
   ]
  },
  {
   "cell_type": "code",
   "execution_count": 5,
   "id": "conceptual-indonesia",
   "metadata": {},
   "outputs": [],
   "source": [
    "inputDF=inputDF.filter(\"used_slots is not null\")"
   ]
  },
  {
   "cell_type": "code",
   "execution_count": 6,
   "id": "worth-gilbert",
   "metadata": {},
   "outputs": [],
   "source": [
    "#parameters\n",
    "interval=30 #time window\n",
    "maxDelta=3 #how many delta\n",
    "th=1 #distance\n",
    "window_size=4 #window size"
   ]
  },
  {
   "cell_type": "code",
   "execution_count": 7,
   "id": "toxic-intelligence",
   "metadata": {},
   "outputs": [],
   "source": [
    "#filter for these fields\n",
    "filteredDF = inputDF.filter(\"free_slots<>0 OR used_slots<>0\")"
   ]
  },
  {
   "cell_type": "code",
   "execution_count": 8,
   "id": "greatest-crawford",
   "metadata": {},
   "outputs": [],
   "source": [
    "#determine if the station is full, empty or partially full\n",
    "def stateFunction(free_slots,used_slots):\n",
    "    if free_slots==0:\n",
    "        return 1\n",
    "    elif (free_slots==1 or free_slots==2):\n",
    "        return 0\n",
    "    else:\n",
    "        return 2"
   ]
  },
  {
   "cell_type": "code",
   "execution_count": 9,
   "id": "conservative-disney",
   "metadata": {},
   "outputs": [
    {
     "data": {
      "text/plain": [
       "<function __main__.stateFunction(free_slots, used_slots)>"
      ]
     },
     "execution_count": 9,
     "metadata": {},
     "output_type": "execute_result"
    }
   ],
   "source": [
    "spark.udf.register(\"state\", stateFunction)"
   ]
  },
  {
   "cell_type": "code",
   "execution_count": 10,
   "id": "leading-bulgaria",
   "metadata": {},
   "outputs": [],
   "source": [
    "def getInt(station):\n",
    "    return (station)"
   ]
  },
  {
   "cell_type": "code",
   "execution_count": 11,
   "id": "direct-competition",
   "metadata": {},
   "outputs": [
    {
     "data": {
      "text/plain": [
       "<function __main__.getInt(station)>"
      ]
     },
     "execution_count": 11,
     "metadata": {},
     "output_type": "execute_result"
    }
   ],
   "source": [
    "spark.udf.register(\"intValue\", getInt)"
   ]
  },
  {
   "cell_type": "code",
   "execution_count": 12,
   "id": "junior-implementation",
   "metadata": {},
   "outputs": [],
   "source": [
    "getStatusDF = filteredDF.selectExpr(\"station\",\"timestamp\", \"state(free_slots,used_slots) as status\")"
   ]
  },
  {
   "cell_type": "code",
   "execution_count": 13,
   "id": "attempted-pocket",
   "metadata": {},
   "outputs": [],
   "source": [
    "#getStatusDF.show(100,False)"
   ]
  },
  {
   "cell_type": "code",
   "execution_count": 14,
   "id": "trying-victory",
   "metadata": {},
   "outputs": [],
   "source": [
    "#filter only empty or full stations\n",
    "full_empty=getStatusDF.filter(\"status==1 or status==0\")"
   ]
  },
  {
   "cell_type": "code",
   "execution_count": 15,
   "id": "blank-candle",
   "metadata": {},
   "outputs": [
    {
     "data": {
      "text/plain": [
       "2074101"
      ]
     },
     "execution_count": 15,
     "metadata": {},
     "output_type": "execute_result"
    }
   ],
   "source": [
    "full_empty.count()"
   ]
  },
  {
   "cell_type": "code",
   "execution_count": 16,
   "id": "warming-clear",
   "metadata": {},
   "outputs": [
    {
     "data": {
      "text/plain": [
       "12.44198099085055"
      ]
     },
     "execution_count": 16,
     "metadata": {},
     "output_type": "execute_result"
    }
   ],
   "source": [
    "full_empty.count()/getStatusDF.count()*100"
   ]
  },
  {
   "cell_type": "code",
   "execution_count": 17,
   "id": "precious-advancement",
   "metadata": {},
   "outputs": [
    {
     "name": "stdout",
     "output_type": "stream",
     "text": [
      "+-------+------------------+-------------------+\n",
      "|summary|           station|             status|\n",
      "+-------+------------------+-------------------+\n",
      "|  count|           2074101|            2074101|\n",
      "|   mean|107.01611059442139| 0.3467420342596624|\n",
      "| stddev| 71.69940973185341|0.47593287882526875|\n",
      "|    min|               1.0|                  0|\n",
      "|    max|             283.0|                  1|\n",
      "+-------+------------------+-------------------+\n",
      "\n"
     ]
    }
   ],
   "source": [
    "full_empty.describe().show()"
   ]
  },
  {
   "cell_type": "code",
   "execution_count": 18,
   "id": "finite-george",
   "metadata": {},
   "outputs": [],
   "source": [
    "#create a view\n",
    "full_empty.createOrReplaceTempView(\"readings\")"
   ]
  },
  {
   "cell_type": "code",
   "execution_count": 19,
   "id": "former-beaver",
   "metadata": {},
   "outputs": [],
   "source": [
    "#select station, year, month, day, hour, minute, status ordered by time\n",
    "ss=spark.sql(\"\"\"SELECT  station , YEAR(timestamp) as year, MONTH(timestamp) as month, DAY(timestamp) as day, HOUR(timestamp)as hour, MINUTE(timestamp) as minute, status\n",
    "FROM readings\n",
    "GROUP BY station, year, month, day,hour,minute, status\n",
    "ORDER BY  station,year, month,day, hour,minute\n",
    "\"\"\")"
   ]
  },
  {
   "cell_type": "code",
   "execution_count": 20,
   "id": "confident-minneapolis",
   "metadata": {},
   "outputs": [],
   "source": [
    "##SHOW STATISTICS"
   ]
  },
  {
   "cell_type": "code",
   "execution_count": 21,
   "id": "warming-pharmaceutical",
   "metadata": {},
   "outputs": [],
   "source": [
    "info_st=ss.groupby(\"station\")\n",
    "stat_st=info_st.agg({\"status\":\"count\"})"
   ]
  },
  {
   "cell_type": "code",
   "execution_count": 22,
   "id": "wrapped-damages",
   "metadata": {},
   "outputs": [],
   "source": [
    "info_stations=[]\n",
    "info_counts=[]\n",
    "info_stations.append(stat_st.rdd.map(tuple).map(lambda line: str(line[0])).collect())\n",
    "info_counts.append(stat_st.rdd.map(tuple).map(lambda line: line[1]).collect())"
   ]
  },
  {
   "cell_type": "code",
   "execution_count": 23,
   "id": "appointed-louisville",
   "metadata": {},
   "outputs": [],
   "source": [
    "#info_counts"
   ]
  },
  {
   "cell_type": "code",
   "execution_count": 24,
   "id": "driving-delicious",
   "metadata": {},
   "outputs": [
    {
     "data": {
      "image/png": "[encoded data removed]",
      "text/plain": [
       "<Figure size 1440x720 with 1 Axes>"
      ]
     },
     "metadata": {
      "needs_background": "light"
     },
     "output_type": "display_data"
    }
   ],
   "source": [
    "plt.figure(figsize =(20, 10))  \n",
    "plt.bar(info_stations[0],info_counts[0])\n",
    "plt.xlabel('Staions') \n",
    "plt.ylabel('Records') \n",
    "_=plt.title('Numero di record per ogni stazione')"
   ]
  },
  {
   "cell_type": "code",
   "execution_count": 25,
   "id": "derived-legislation",
   "metadata": {},
   "outputs": [],
   "source": [
    "sa=ss.groupby(\"station\",\"year\",'month', \"status\")\n",
    "stat=sa.agg({\"status\": \"count\"})\n",
    "stat=stat.sort(\"station\",\"year\",\"month\",\"status\")"
   ]
  },
  {
   "cell_type": "code",
   "execution_count": 26,
   "id": "unexpected-henry",
   "metadata": {},
   "outputs": [],
   "source": [
    "window1=stat[stat.station==1]\n",
    "window1=window1[stat.status==0]\n",
    "window2=stat[stat.station==1]\n",
    "window2=window2[stat.status==1]\n",
    "\n",
    "window3=stat[stat.station==2 ]\n",
    "window3=window3[stat.status==0]\n",
    "window4=stat[stat.station==2]\n",
    "window4=window4[stat.status==1]\n",
    "\n",
    "window5=stat[stat.station==3 ]\n",
    "window5=window5[stat.status==0]\n",
    "window6=stat[stat.station==3]\n",
    "window6=window6[stat.status==1]\n",
    "\n",
    "window7=stat[stat.station==4 ]\n",
    "window7=window7[stat.status==0]\n",
    "window8=stat[stat.station==4]\n",
    "window8=window8[stat.status==1]\n",
    "\n",
    "window9=stat[stat.station==5 ]\n",
    "window9=window9[stat.status==0]\n",
    "window10=stat[stat.station==5]\n",
    "window10=window10[stat.status==1]"
   ]
  },
  {
   "cell_type": "code",
   "execution_count": 27,
   "id": "convenient-class",
   "metadata": {},
   "outputs": [],
   "source": [
    "stations=[]\n",
    "month=[]\n",
    "status=[]\n",
    "counter=[]\n",
    "for el in [window1, window2, window3, window4, window5, window6, window7, window8, window9, window10]:\n",
    "    stations.append(el.rdd.map(tuple).map(lambda line: line[0]).collect())\n",
    "    month.append(el.rdd.map(tuple).map(lambda line: str(line[2])).collect())\n",
    "    status.append(el.rdd.map(tuple).map(lambda line: line[3]).collect())\n",
    "    counter.append(el.rdd.map(tuple).map(lambda line: line[4]).collect())"
   ]
  },
  {
   "cell_type": "code",
   "execution_count": 28,
   "id": "violent-spending",
   "metadata": {},
   "outputs": [
    {
     "data": {
      "text/plain": [
       "[[719, 2219, 1278, 3114],\n",
       " [503, 1083, 1419, 1551],\n",
       " [491, 1275, 1170, 1192],\n",
       " [407, 888, 751, 882],\n",
       " [1011, 1014, 1575, 4615],\n",
       " [267, 136, 1415, 1599],\n",
       " [759, 1905, 2731, 4150],\n",
       " [448, 1219, 1195, 1544],\n",
       " [79, 540, 1383, 3959],\n",
       " [33, 348, 278, 2527]]"
      ]
     },
     "execution_count": 28,
     "metadata": {},
     "output_type": "execute_result"
    }
   ],
   "source": [
    "counter"
   ]
  },
  {
   "cell_type": "code",
   "execution_count": 29,
   "id": "medieval-worry",
   "metadata": {},
   "outputs": [
    {
     "data": {
      "image/png": "[encoded data removed]",
      "text/plain": [
       "<Figure size 720x576 with 1 Axes>"
      ]
     },
     "metadata": {
      "needs_background": "light"
     },
     "output_type": "display_data"
    }
   ],
   "source": [
    "plt.figure(figsize =(10, 8))\n",
    "colors=['red','darkviolet','orange','blue','brown','magenta','black','green','gray','lightblue']\n",
    "for el in range(len(stations)):\n",
    "    plt.plot(month[el],counter[el], marker = 'o',color=colors[el]) \n",
    "    plt.xlabel('Months') \n",
    "    plt.ylabel('Values')\n",
    "    plt.legend(['Stazione1 QuasiPiena','Stazione1 Piena','Stazione2 QuasiPiena','Stazione2 Piena','Stazione3 QuasiPiena','Stazione3 Piena','Stazione4 QuasiPiena','Stazione4 Piena','Stazione5 QuasiPiena','Stazione5 Piena'])\n",
    "_._=plt.title('Statistiche del 2018')"
   ]
  },
  {
   "cell_type": "code",
   "execution_count": 30,
   "id": "comfortable-challenge",
   "metadata": {},
   "outputs": [],
   "source": [
    "#create rdd and group into interval\n",
    "my_rdd=ss.rdd.map(tuple)\n",
    "rdd=my_rdd.map(lambda line: (line[0],line[1],line[2], line[3], line[4], int(line[5]/interval), line[6])).distinct()\n",
    "#rdd.collect()"
   ]
  },
  {
   "cell_type": "code",
   "execution_count": 31,
   "id": "canadian-moses",
   "metadata": {},
   "outputs": [],
   "source": [
    "#get distinct stations to calculate distances\n",
    "id_stations=rdd.map(lambda line: line[0]).distinct()"
   ]
  },
  {
   "cell_type": "code",
   "execution_count": 32,
   "id": "statistical-hampshire",
   "metadata": {},
   "outputs": [],
   "source": [
    "tot_id_stations=id_stations.collect()"
   ]
  },
  {
   "cell_type": "code",
   "execution_count": 33,
   "id": "square-arkansas",
   "metadata": {},
   "outputs": [],
   "source": [
    "#obtain timestamp and info\n",
    "def getMap2(line):\n",
    "    id_station=str(line[0])\n",
    "    year=int(line[1])\n",
    "    month=int(line[2])\n",
    "    day=int(line[3])\n",
    "    hour=int(line[4])\n",
    "    minute=int(line[5])   \n",
    "    timestamp= datetime(year,month, day, hour, minute)  \n",
    "    status=int(line[6])\n",
    "#     if status==0:\n",
    "#         status='QuasiPiena'\n",
    "#     else:\n",
    "#         status='Piena'\n",
    "    #info=id_station.split('.')[0]+'_'+status\n",
    "    info=str(id_station)+' '+str(status)\n",
    "    return (timestamp, info)"
   ]
  },
  {
   "cell_type": "code",
   "execution_count": 34,
   "id": "retained-tourist",
   "metadata": {},
   "outputs": [],
   "source": [
    "get_map2=rdd.map(getMap2)"
   ]
  },
  {
   "cell_type": "code",
   "execution_count": 35,
   "id": "sustainable-robert",
   "metadata": {},
   "outputs": [],
   "source": [
    "#get_map2.collect()\n",
    "#[(datetime.datetime(2008, 9, 4, 16, 1), '9.0', 1),"
   ]
  },
  {
   "cell_type": "code",
   "execution_count": 36,
   "id": "dense-linux",
   "metadata": {},
   "outputs": [],
   "source": [
    "reduceK2=get_map2.reduceByKey(lambda l1,l2 :(l1+','+l2)).sortByKey()"
   ]
  },
  {
   "cell_type": "code",
   "execution_count": 37,
   "id": "geographic-effectiveness",
   "metadata": {},
   "outputs": [],
   "source": [
    "#reduceK2.collect()"
   ]
  },
  {
   "cell_type": "code",
   "execution_count": 38,
   "id": "invisible-complaint",
   "metadata": {},
   "outputs": [],
   "source": [
    "list_tot=reduceK2.collect()\n",
    "# [(datetime.datetime(2008, 5, 15, 10, 0),\n",
    "#   '53.0 0,55.0 "
   ]
  },
  {
   "cell_type": "code",
   "execution_count": 1,
   "id": "guilty-transport",
   "metadata": {},
   "outputs": [],
   "source": [
    "#list_tot[:5]"
   ]
  },
  {
   "cell_type": "code",
   "execution_count": 40,
   "id": "identified-device",
   "metadata": {},
   "outputs": [],
   "source": [
    "#list_tot[1]"
   ]
  },
  {
   "cell_type": "code",
   "execution_count": 41,
   "id": "young-large",
   "metadata": {},
   "outputs": [],
   "source": [
    "voc_status={}\n",
    "voc_timestamp={}\n",
    "list_filtered=[]\n",
    "\n",
    "voc_tmp={}\n",
    "\n",
    "# previous_list=[]\n",
    "# updated_list=[]\n",
    "\n",
    "for i, el in enumerate(list_tot):\n",
    "    #updated_list=[]    \n",
    "    information=el[1]   \n",
    "    tmp_list_station='' \n",
    "    voc_tmp={}\n",
    "    \n",
    "    for info in information.split(','):\n",
    "        \n",
    "        #print(info)\n",
    "        station=str(info.split(' ')[0].split('.')[0])\n",
    "            \n",
    "        status=int(info.split(' ')[1])\n",
    "        if  station not in voc_status:\n",
    "            voc_status[station]=status\n",
    "            voc_timestamp[station]=el[0]\n",
    "            stringa=''\n",
    "            if status==0:\n",
    "                stringa='QuasiPiena'\n",
    "            else:\n",
    "                stringa='Piena'\n",
    "            tmp_list_station+=','+station+'_'+ stringa \n",
    "            #updated_list.append(station)\n",
    "                  \n",
    "        else:\n",
    "            times=voc_timestamp[station]\n",
    "            actual_time=el[0]\n",
    "            if times== actual_time:\n",
    "\n",
    "                if status != voc_status[station] and voc_status[station]!=3:                    \n",
    "                    voc_status[station]=3 \n",
    "                    stringa=''\n",
    "                    if status==0:\n",
    "                        stringa='QuasiPiena'\n",
    "                    else:\n",
    "                        stringa='Piena'\n",
    "                    tmp_list_station+=','+station+'_'+ stringa \n",
    "                    \n",
    "            else:            \n",
    "                # after 30 minutes\n",
    "                if (actual_time.minute-times.minute)==1:\n",
    "                    if voc_status[station]==3:                     \n",
    "                        voc_status[station]=status\n",
    "                        voc_timestamp[station]=actual_time\n",
    "                        stringa=''\n",
    "                        if status==0:\n",
    "                            stringa='QuasiPiena'\n",
    "                        else:\n",
    "                            stringa='Piena'\n",
    "                        tmp_list_station+=','+station+'_'+ stringa \n",
    "                        #updated_list.append(station)\n",
    "                        \n",
    "                    elif voc_status[station]==1 and status==0:                        \n",
    "                        voc_status[station]=0\n",
    "                        voc_timestamp[station]=actual_time\n",
    "                        stringa=''\n",
    "                        if status==0:\n",
    "                            stringa='QuasiPiena'\n",
    "                        else:\n",
    "                            stringa='Piena'\n",
    "                        tmp_list_station+=','+station+'_'+ stringa \n",
    "                        \n",
    "                        if station in voc_tmp:\n",
    "                            if voc_tmp[station]==1:\n",
    "                                 tmp_list_station+=','+station+'_Piena'\n",
    "#                         tmp_check=station+'_Piena'\n",
    "#                         if tmp_check not in tmp_list_station:\n",
    "#                             tmp_list_station+=','+station+'_Piena' \n",
    "                        #updated_list.append(station)                      \n",
    "                        \n",
    "                    elif voc_status[station]==0 and status==1:\n",
    "                        voc_status[station]=1\n",
    "                        voc_timestamp[station]=actual_time\n",
    "                        stringa=''\n",
    "                        if status==0:\n",
    "                            stringa='QuasiPiena'\n",
    "                        else:\n",
    "                            stringa='Piena'\n",
    "                        tmp_list_station+=','+station+'_'+ stringa\n",
    "                        \n",
    "                        if station in voc_tmp:\n",
    "                            if voc_tmp[station]==0:\n",
    "                                 tmp_list_station+=','+station+'_QuasiPiena'\n",
    "                        \n",
    "#                         tmp_check=station+'_QuasiPiena'\n",
    "#                         if tmp_check in not in tmp_list_station:\n",
    "#                             tmp_list_station+=','+station+'_QuasiPiena'\n",
    "                            #updated_list.append(station)\n",
    "                        \n",
    "                        \n",
    "                    elif  voc_status[station]==0 and status==0:\n",
    "                        voc_tmp[station]=0\n",
    "                    elif  voc_status[station]==1 and status==1:\n",
    "                        voc_tmp[station]=1\n",
    "                    \n",
    "                # after more than 30 minutes        \n",
    "                elif (actual_time.minute-times.minute)>1:\n",
    "                    voc_status[station]==''\n",
    "                    voc_timestamp[station]=''\n",
    "           \n",
    "        \n",
    "#     if i!=0:\n",
    "#         #previous_list=set(previous_list)\n",
    "#         updated_list=set(updated_list)\n",
    "\n",
    "#         for st in previous_list:\n",
    "#             if st not in updated_list:              \n",
    "#                 voc_status.pop(st)  \n",
    "#                 voc_timestamp.pop(st)\n",
    "                \n",
    "            \n",
    "#     previous_list=updated_list\n",
    "#     updated_list=[]\n",
    "    \n",
    "    list_filtered.append((el[0],tmp_list_station[1::]))"
   ]
  },
  {
   "cell_type": "code",
   "execution_count": 42,
   "id": "owned-career",
   "metadata": {},
   "outputs": [],
   "source": [
    "reduceK=spark.sparkContext.parallelize(list_filtered)\n",
    "#reduceK.collect()"
   ]
  },
  {
   "cell_type": "code",
   "execution_count": 43,
   "id": "noble-corps",
   "metadata": {},
   "outputs": [],
   "source": [
    "#reduceK.collect()"
   ]
  },
  {
   "cell_type": "code",
   "execution_count": 44,
   "id": "acquired-label",
   "metadata": {},
   "outputs": [],
   "source": [
    "my_df=reduceK.toDF()\n",
    "#my_df.collect()"
   ]
  },
  {
   "cell_type": "code",
   "execution_count": 45,
   "id": "retained-tiger",
   "metadata": {},
   "outputs": [],
   "source": [
    "my_df.createOrReplaceTempView(\"view\")"
   ]
  },
  {
   "cell_type": "code",
   "execution_count": 46,
   "id": "economic-oxford",
   "metadata": {},
   "outputs": [],
   "source": [
    "s2=spark.sql(\"\"\"SELECT ROW_NUMBER() OVER(ORDER BY _1,_2) as id ,_1, _2\n",
    "FROM view \"\"\")"
   ]
  },
  {
   "cell_type": "code",
   "execution_count": 47,
   "id": "smoking-bikini",
   "metadata": {},
   "outputs": [],
   "source": [
    "#identifier of the timestamp, info\n",
    "rdd_scheme=s2.rdd.map(tuple).map(lambda line: (line[0], line[2]))\n",
    "#rdd_scheme.collect()\n",
    "#(1,  '59_QuasiPiena,16_QuasiPiena,61_Piena,135_QuasiPiena,62_Piena,45_Piena,14_QuasiPiena,65_QuasiPiena,61_QuasiPiena,40_QuasiPiena,9_QuasiPiena,53_QuasiPiena,69_QuasiPiena,71_QuasiPiena,56_QuasiPiena,10_QuasiPiena,62_QuasiPiena,132_QuasiPiena,55_QuasiPiena,119_QuasiPiena,12_QuasiPiena,252_QuasiPiena,71_Piena,131_QuasiPiena,59_Piena'),"
   ]
  },
  {
   "cell_type": "code",
   "execution_count": 48,
   "id": "architectural-shaft",
   "metadata": {},
   "outputs": [],
   "source": [
    "#rdd_scheme.collect()"
   ]
  },
  {
   "cell_type": "code",
   "execution_count": 49,
   "id": "threaded-columbus",
   "metadata": {},
   "outputs": [],
   "source": [
    "#obtain window, station-status\n",
    "def giveSplit(line):   \n",
    "    id_window=( int(line[0] ))\n",
    "    lista=[]    \n",
    "    counter=id_window    \n",
    "    while counter>=1:\n",
    "        lista.append(('Window '+str(counter),(line[1])))\n",
    "        counter=counter-1\n",
    "        if (id_window-counter)==window_size:\n",
    "            return lista  \n",
    "    return lista"
   ]
  },
  {
   "cell_type": "code",
   "execution_count": 50,
   "id": "addressed-genre",
   "metadata": {},
   "outputs": [],
   "source": [
    "mapData=rdd_scheme.flatMap(giveSplit)\n",
    "#mapData.collect()"
   ]
  },
  {
   "cell_type": "code",
   "execution_count": 51,
   "id": "hawaiian-carry",
   "metadata": {},
   "outputs": [],
   "source": [
    "filteredD=mapData.filter(lambda line: line[1]!='')\n",
    "#filteredD.collect()"
   ]
  },
  {
   "cell_type": "code",
   "execution_count": 52,
   "id": "north-progressive",
   "metadata": {},
   "outputs": [],
   "source": [
    "# for each window get all info\n",
    "all_keys=filteredD.reduceByKey(lambda l1,l2:(l1+'-'+l2))"
   ]
  },
  {
   "cell_type": "code",
   "execution_count": 53,
   "id": "academic-actor",
   "metadata": {},
   "outputs": [],
   "source": [
    "#all_keys.collect()"
   ]
  },
  {
   "cell_type": "code",
   "execution_count": 54,
   "id": "median-spice",
   "metadata": {},
   "outputs": [],
   "source": [
    "#finestra temporale\n",
    "def reduceKeys(line):   \n",
    "    lista=[]\n",
    "    #lista.append(line[0])\n",
    "    line_split=line[1].split(\"-\")\n",
    "    #return line_split[0]\n",
    "    count=len(line_split)\n",
    "    tot=[]\n",
    "    for val in range(count):\n",
    "        li=[]\n",
    "        stations=line_split[val].split(',')\n",
    "        for st in stations:\n",
    "            all_string_st=st.split('_')[0]+'_'+'T'+str(val)+'_'+st.split('_')[1]\n",
    "            li.append(all_string_st)\n",
    "        tot.append(li)\n",
    "    lista.append((line[0],(tot))) \n",
    "    return lista"
   ]
  },
  {
   "cell_type": "code",
   "execution_count": 55,
   "id": "beautiful-stack",
   "metadata": {},
   "outputs": [],
   "source": [
    "windows=all_keys.flatMap(reduceKeys)"
   ]
  },
  {
   "cell_type": "code",
   "execution_count": 56,
   "id": "daily-particle",
   "metadata": {},
   "outputs": [],
   "source": [
    "#windows.collect()\n",
    "#[('Window 1',\n",
    "#   [['62.0_T0_Piena',\n",
    "#     '40.0_T0_Piena',"
   ]
  },
  {
   "cell_type": "code",
   "execution_count": 57,
   "id": "brutal-fitting",
   "metadata": {},
   "outputs": [],
   "source": [
    "#save station file\n",
    "stationsDF = spark.read.format(\"csv\")\\\n",
    ".option(\"delimiter\", \"\\\\t\")\\\n",
    ".option(\"header\", True)\\\n",
    ".option(\"inferSchema\", True).load(STATION_PATH)"
   ]
  },
  {
   "cell_type": "code",
   "execution_count": 58,
   "id": "bottom-reduction",
   "metadata": {},
   "outputs": [],
   "source": [
    "#get only rows interested: only the used stations \n",
    "necessary_rows=stationsDF.filter(F.col(\"id\").isin(tot_id_stations)).rdd.map(tuple)"
   ]
  },
  {
   "cell_type": "code",
   "execution_count": 59,
   "id": "crazy-philosophy",
   "metadata": {},
   "outputs": [],
   "source": [
    "#necessary_rows.collect()"
   ]
  },
  {
   "cell_type": "code",
   "execution_count": 60,
   "id": "tested-cause",
   "metadata": {},
   "outputs": [],
   "source": [
    "#get info of stations about coordinates and name\n",
    "coordinates=necessary_rows.map(lambda line: (line[0],(str(line[1])+'-'+str(line[2]))))\n",
    "names_stations=necessary_rows.map(lambda line: (line[0],line[3]))"
   ]
  },
  {
   "cell_type": "code",
   "execution_count": 61,
   "id": "above-explorer",
   "metadata": {},
   "outputs": [],
   "source": [
    "list_coo=coordinates.collect()\n",
    "#list_coo"
   ]
  },
  {
   "cell_type": "code",
   "execution_count": 62,
   "id": "heard-paste",
   "metadata": {},
   "outputs": [],
   "source": [
    "#create a dictionary in which the key is the station and value is the info about coordinates\n",
    "dic_co=coordinates.collectAsMap()\n",
    "dic_coordinates=sc.broadcast(dic_co)\n",
    "#dic_coordinates.value[1]"
   ]
  },
  {
   "cell_type": "code",
   "execution_count": 63,
   "id": "public-japanese",
   "metadata": {},
   "outputs": [],
   "source": [
    "#function to retrieve distance between 2 stations\n",
    "def getDistance(station1,station2):\n",
    "    # approximate radius of earth in km\n",
    "    R = 6373.0    \n",
    "    lat_a=float(station1.split('-')[0])\n",
    "    lat_b=float(station2.split('-')[0])\n",
    "    long_a=float(station1.split('-')[1])\n",
    "    long_b=float(station2.split('-')[1])\n",
    "    \n",
    "    lat1=radians(lat_a)\n",
    "    lat2=radians(lat_b)\n",
    "    lon1=radians(long_a)\n",
    "    lon2=radians(long_b)\n",
    "    \n",
    "    dlon = lon2 - lon1\n",
    "    dlat = lat2 - lat1\n",
    "\n",
    "    a = sin(dlat / 2)**2 + cos(lat1) * cos(lat2) * sin(dlon / 2)**2\n",
    "    c = 2 * atan2(sqrt(a), sqrt(1 - a))\n",
    "\n",
    "    distance = R * c\n",
    "    return distance"
   ]
  },
  {
   "cell_type": "code",
   "execution_count": 64,
   "id": "yellow-average",
   "metadata": {},
   "outputs": [],
   "source": [
    "#voc in which the key is a pair of stations and value is the distance\n",
    "voc_distances={}\n",
    "for i in range(len(list_coo)):\n",
    "    for j in range(i+1,len(list_coo)):\n",
    "        station1=list_coo[i][0]\n",
    "        station2=list_coo[j][0]\n",
    "        d_i=list_coo[i][1]\n",
    "        d_j=list_coo[j][1]\n",
    "        distance=getDistance(d_i,d_j)\n",
    "        id_stations=str(station1)+' '+str(station2)\n",
    "        voc_distances[id_stations]=distance"
   ]
  },
  {
   "cell_type": "code",
   "execution_count": 65,
   "id": "advanced-fleet",
   "metadata": {},
   "outputs": [],
   "source": [
    "#voc_distances['47 271']"
   ]
  },
  {
   "cell_type": "code",
   "execution_count": 66,
   "id": "charitable-bahamas",
   "metadata": {},
   "outputs": [],
   "source": [
    "#voc_distances"
   ]
  },
  {
   "cell_type": "code",
   "execution_count": 67,
   "id": "smaller-april",
   "metadata": {},
   "outputs": [],
   "source": [
    "# average distance between stations\n",
    "avg_distance=0\n",
    "for dist in voc_distances.values():\n",
    "    avg_distance+=dist\n",
    "avg_distance=avg_distance/len(voc_distances)\n",
    "#avg_distance"
   ]
  },
  {
   "cell_type": "code",
   "execution_count": 68,
   "id": "minute-dividend",
   "metadata": {},
   "outputs": [
    {
     "name": "stdout",
     "output_type": "stream",
     "text": [
      "The average distance is 4.07 Km\n"
     ]
    }
   ],
   "source": [
    "avg_distance_float=float(\"{:.2f}\".format(avg_distance))\n",
    "print(f'The average distance is {avg_distance_float} Km')"
   ]
  },
  {
   "cell_type": "code",
   "execution_count": 69,
   "id": "registered-export",
   "metadata": {},
   "outputs": [],
   "source": [
    "set_all_stations=set()\n",
    "for key in voc_distances:\n",
    "    first_el=int(key.split(' ')[0])\n",
    "    second_el=int(key.split(' ')[1])\n",
    "    set_all_stations.add(first_el)\n",
    "    set_all_stations.add(second_el)"
   ]
  },
  {
   "cell_type": "code",
   "execution_count": 70,
   "id": "labeled-sense",
   "metadata": {},
   "outputs": [],
   "source": [
    "# all stations that are at a distance smaller or equal to 1 km from station 1 as reference\n",
    "list_stations=[]\n",
    "count_stations=0\n",
    "reference_station=2\n",
    "\n",
    "for key in voc_distances:\n",
    "    first_el=int(key.split(' ')[0])\n",
    "    second_el=int(key.split(' ')[1])\n",
    "    if first_el==reference_station and voc_distances[key]<=1: \n",
    "        count_stations+=1\n",
    "        list_stations.append(second_el)       \n",
    "    elif second_el==reference_station and voc_distances[key]<=1:\n",
    "        count_stations+=1\n",
    "        list_stations.append(first_el)"
   ]
  },
  {
   "cell_type": "code",
   "execution_count": 71,
   "id": "necessary-defensive",
   "metadata": {},
   "outputs": [
    {
     "name": "stdout",
     "output_type": "stream",
     "text": [
      "The average number of stations that are at a distance smaller or equal than 0.5 Km is 3.51\n",
      "The average number of stations that are at a distance smaller or equal than 1 Km is 14.32\n",
      "The average number of stations that are at a distance smaller or equal than 2 Km is 49.84\n",
      "The average number of stations that are at a distance smaller or equal than 3 Km is 94.91\n",
      "The average number of stations that are at a distance smaller or equal than 4 Km is 140.07\n",
      "The average number of stations that are at a distance smaller or equal than 5 Km is 179.53\n"
     ]
    }
   ],
   "source": [
    "for distance in [0.5,1,2,3,4,5]:\n",
    "    sum_stations=0\n",
    "    for reference_station in list(set_all_stations):\n",
    "    #     list_stations=[]\n",
    "        count_stations=0    \n",
    "        for key in voc_distances:\n",
    "            first_el=int(key.split(' ')[0])\n",
    "            second_el=int(key.split(' ')[1])\n",
    "            if first_el==reference_station and voc_distances[key]<=distance: \n",
    "                count_stations+=1\n",
    "    #             list_stations.append(second_el)       \n",
    "            elif second_el==reference_station and voc_distances[key]<=distance:\n",
    "                count_stations+=1\n",
    "    #             list_stations.append(first_el)\n",
    "        sum_stations+=count_stations  \n",
    "    num_stations_Km=float(\"{:.2f}\".format(sum_stations/len(list(set_all_stations))))\n",
    "    print(f'The average number of stations that are at a distance smaller or equal than {distance} Km is {num_stations_Km}')"
   ]
  },
  {
   "cell_type": "code",
   "execution_count": null,
   "id": "employed-deposit",
   "metadata": {},
   "outputs": [],
   "source": []
  },
  {
   "cell_type": "code",
   "execution_count": null,
   "id": "synthetic-nebraska",
   "metadata": {},
   "outputs": [],
   "source": []
  },
  {
   "cell_type": "code",
   "execution_count": 72,
   "id": "pacific-deadline",
   "metadata": {},
   "outputs": [],
   "source": [
    "#Applicazione “Delta Spaziale”\n",
    "def giveSpatialWindow(line):\n",
    "    lista=[]    \n",
    "    time0=line[1][0]    \n",
    "    dic={}\n",
    "    \n",
    "    count_windows=len(line[1])#tot windows\n",
    "\n",
    "    for station in time0:# only first window\n",
    "        act_station=int(station.split('_')[0])\n",
    "        #lista_station=[] \n",
    "        list_tmp=[]\n",
    "        \n",
    "        #for each window\n",
    "        for i,window in enumerate(line[1]):           \n",
    "            second_lista=[]\n",
    "            #for each element of a window\n",
    "            for all_el in window :\n",
    "                #second_lista=[]\n",
    "                act_all_el=int(all_el.split('_')[0])\n",
    "                state=all_el.split('_')[2]\n",
    "               \n",
    "                if act_station!=act_all_el:\n",
    "                    \n",
    "                    key=''\n",
    "                    if act_station<act_all_el:\n",
    "                        key=str(act_station)+' '+str(act_all_el)\n",
    "                    else:\n",
    "                        key=str(act_all_el)+' '+str(act_station)                    \n",
    "                    \n",
    "                    dist=voc_distances[key]\n",
    "                    if dist<=maxDelta*th:\n",
    "                        delta=0\n",
    "                        for d in range(1,maxDelta+1):\n",
    "                            if d*th>=dist:\n",
    "                                delta=d\n",
    "                                break                        \n",
    "                        string=state+'_'+'T'+str(i)+'_'+str(delta)\n",
    "                        second_lista.append(string)\n",
    "                else:\n",
    "                    string=state+'_'+'T'+str(i)+'_'+str(0)\n",
    "                    second_lista.append(string)\n",
    "                    \n",
    "            if len(second_lista)>0:\n",
    "                list_tmp.append(second_lista)\n",
    "        lista.append(((line[0]+'|'+str(act_station)),list_tmp))\n",
    "    \n",
    "    return lista"
   ]
  },
  {
   "cell_type": "code",
   "execution_count": 73,
   "id": "sixth-organizer",
   "metadata": {},
   "outputs": [],
   "source": [
    "spatial_app=windows.flatMap(giveSpatialWindow)"
   ]
  },
  {
   "cell_type": "code",
   "execution_count": 74,
   "id": "unlikely-green",
   "metadata": {},
   "outputs": [],
   "source": [
    "#spatial_app.collect()"
   ]
  },
  {
   "cell_type": "code",
   "execution_count": 75,
   "id": "ambient-participant",
   "metadata": {},
   "outputs": [],
   "source": [
    "def row_seq(line):\n",
    "    true=line[1]\n",
    "    string=Row(sequence=true)\n",
    "    return string"
   ]
  },
  {
   "cell_type": "code",
   "execution_count": 76,
   "id": "prerequisite-zealand",
   "metadata": {},
   "outputs": [],
   "source": [
    "spatial=spatial_app.map(row_seq)"
   ]
  },
  {
   "cell_type": "code",
   "execution_count": 77,
   "id": "realistic-plain",
   "metadata": {},
   "outputs": [],
   "source": [
    "#spatial.collect()"
   ]
  },
  {
   "cell_type": "code",
   "execution_count": 78,
   "id": "suited-harrison",
   "metadata": {},
   "outputs": [],
   "source": [
    "#create a dataframe\n",
    "df=spatial.toDF()"
   ]
  },
  {
   "cell_type": "code",
   "execution_count": 79,
   "id": "vulnerable-layer",
   "metadata": {},
   "outputs": [],
   "source": [
    "supports=[support]"
   ]
  },
  {
   "cell_type": "code",
   "execution_count": 80,
   "id": "shared-cartridge",
   "metadata": {},
   "outputs": [],
   "source": [
    "#df.show(20,False)"
   ]
  },
  {
   "cell_type": "code",
   "execution_count": 81,
   "id": "viral-yemen",
   "metadata": {},
   "outputs": [
    {
     "name": "stdout",
     "output_type": "stream",
     "text": [
      "0\n"
     ]
    }
   ],
   "source": [
    "#prefixspan to obtain sequence and frequence\n",
    "counter=[]\n",
    "for support in supports:\n",
    "    print(support)\n",
    "    prefixSpan = PrefixSpan(minSupport=support, maxPatternLength=5,\n",
    "                        maxLocalProjDBSize=5000)\n",
    "    prefix=prefixSpan.findFrequentSequentialPatterns(df)   \n",
    "    len_prefix=prefix.count()    \n",
    "#     prefix.show(len_prefix,False)\n",
    "#     counter.append(len_prefix)"
   ]
  },
  {
   "cell_type": "code",
   "execution_count": 82,
   "id": "spiritual-bruce",
   "metadata": {},
   "outputs": [
    {
     "data": {
      "text/plain": [
       "132141"
      ]
     },
     "execution_count": 82,
     "metadata": {},
     "output_type": "execute_result"
    }
   ],
   "source": [
    "len_prefix"
   ]
  },
  {
   "cell_type": "code",
   "execution_count": 83,
   "id": "alpha-convergence",
   "metadata": {},
   "outputs": [],
   "source": [
    "pre=prefix.rdd.map(tuple)"
   ]
  },
  {
   "cell_type": "code",
   "execution_count": 84,
   "id": "voluntary-candle",
   "metadata": {},
   "outputs": [],
   "source": [
    "#pre.collect()"
   ]
  },
  {
   "cell_type": "code",
   "execution_count": 85,
   "id": "infrared-recorder",
   "metadata": {},
   "outputs": [],
   "source": [
    "def giveSelected(line):\n",
    "    seq=line[0]\n",
    "    found=False   \n",
    "    for window in seq:\n",
    "        for el in window:\n",
    "            if 'T0' in el and '_0' in el:\n",
    "                found=True\n",
    "                break\n",
    "    return found "
   ]
  },
  {
   "cell_type": "code",
   "execution_count": 86,
   "id": "governmental-mumbai",
   "metadata": {},
   "outputs": [],
   "source": [
    "giveT0=pre.filter(giveSelected)"
   ]
  },
  {
   "cell_type": "code",
   "execution_count": 87,
   "id": "incorrect-kuwait",
   "metadata": {},
   "outputs": [],
   "source": [
    "#giveT0.collect()"
   ]
  },
  {
   "cell_type": "code",
   "execution_count": 88,
   "id": "legendary-maryland",
   "metadata": {},
   "outputs": [],
   "source": [
    "df2=giveT0.toDF().withColumnRenamed('_1','sequence')\n",
    "df2=df2.withColumnRenamed('_2','freq')#.show(len_prefix,False)"
   ]
  },
  {
   "cell_type": "code",
   "execution_count": 89,
   "id": "featured-shell",
   "metadata": {},
   "outputs": [],
   "source": [
    "#df2.show()"
   ]
  },
  {
   "cell_type": "code",
   "execution_count": 90,
   "id": "biological-cleaner",
   "metadata": {},
   "outputs": [],
   "source": [
    "def mapValues(line):\n",
    "    seq=line[0]\n",
    "    final=''\n",
    "    #voc[seq]=line[1]\n",
    "    for i,window in enumerate(seq):\n",
    "        if i>0:\n",
    "            final+='-'\n",
    "        for j,el in enumerate(window):\n",
    "            if j>0:\n",
    "                final+=','\n",
    "            final+=el\n",
    "    final+=(';'+str(line[1])+';'+str(i))\n",
    "    return final  "
   ]
  },
  {
   "cell_type": "code",
   "execution_count": 91,
   "id": "american-building",
   "metadata": {},
   "outputs": [],
   "source": [
    "mapDict=giveT0.map(mapValues)"
   ]
  },
  {
   "cell_type": "code",
   "execution_count": 92,
   "id": "reserved-bennett",
   "metadata": {},
   "outputs": [],
   "source": [
    "#mapDict.collect()"
   ]
  },
  {
   "cell_type": "code",
   "execution_count": 93,
   "id": "resident-radical",
   "metadata": {},
   "outputs": [],
   "source": [
    "li=mapDict.collect()\n",
    "voc={}"
   ]
  },
  {
   "cell_type": "code",
   "execution_count": 94,
   "id": "opposed-australian",
   "metadata": {},
   "outputs": [],
   "source": [
    "for el in li:\n",
    "    splits=el.split(';')\n",
    "    voc[splits[0]]=int(splits[1])"
   ]
  },
  {
   "cell_type": "code",
   "execution_count": 95,
   "id": "given-miracle",
   "metadata": {},
   "outputs": [],
   "source": [
    "#voc"
   ]
  },
  {
   "cell_type": "code",
   "execution_count": 96,
   "id": "lucky-surgery",
   "metadata": {},
   "outputs": [
    {
     "data": {
      "text/plain": [
       "11518"
      ]
     },
     "execution_count": 96,
     "metadata": {},
     "output_type": "execute_result"
    }
   ],
   "source": [
    "repeated_el_window=0\n",
    "for el in voc.keys():\n",
    "    flag_rep=False\n",
    "    windows=el.split('-')\n",
    "    for w in windows:\n",
    "        tot_items=len(w.split(','))\n",
    "        set_items=len(set(w.split(',')))\n",
    "        if tot_items!=set_items:\n",
    "            repeated_el_window+=1\n",
    "            break\n",
    "repeated_el_window"
   ]
  },
  {
   "cell_type": "code",
   "execution_count": 97,
   "id": "august-scout",
   "metadata": {},
   "outputs": [],
   "source": [
    "voc_supports={}\n",
    "for el in voc.keys():    \n",
    "    if len(el.split('-'))>1:        \n",
    "        num=int(voc[el])       \n",
    "        string=''\n",
    "        tot=el.split('-')[:-1]\n",
    "        for k,station in enumerate(tot):\n",
    "            if k>0:\n",
    "                string+='-'\n",
    "            string+=station\n",
    "        #print(string)\n",
    "        den=int(voc[string])\n",
    "        voc_supports[el]=str(num/den)+'-'+str(voc[el])\n",
    "keys=list(voc_supports.keys())\n",
    "values=list(voc_supports.values())"
   ]
  },
  {
   "cell_type": "code",
   "execution_count": 98,
   "id": "outdoor-canal",
   "metadata": {},
   "outputs": [],
   "source": [
    "#voc_supports"
   ]
  },
  {
   "cell_type": "code",
   "execution_count": 99,
   "id": "dietary-patent",
   "metadata": {},
   "outputs": [],
   "source": [
    "#sort vocabulary by decreasing values and sort within each window\n",
    "tot_frequence=0\n",
    "for key in voc_supports:    \n",
    "    splitted=key.split('-')      \n",
    "    splitted.sort()\n",
    "    tmp_frequence=int(voc_supports[key].split('-')[1])\n",
    "    tot_frequence+=tmp_frequence\n",
    "for key in voc_supports:\n",
    "    freq= int(voc_supports[key].split('-')[1])\n",
    "    #print(freq)\n",
    "    perc_value=float(\"{:.2f}\".format(freq*100/tot_frequence))\n",
    "    voc_supports[key]=str(voc_supports[key].split('-')[0])+'-' + str(freq)+'-'+str(perc_value)+'%'  \n",
    "voc_supports = dict(sorted(voc_supports.items(), key=operator.itemgetter(1),reverse=True))"
   ]
  },
  {
   "cell_type": "code",
   "execution_count": 100,
   "id": "involved-technical",
   "metadata": {},
   "outputs": [],
   "source": [
    "#voc_supports"
   ]
  },
  {
   "cell_type": "code",
   "execution_count": 101,
   "id": "velvet-mobility",
   "metadata": {},
   "outputs": [],
   "source": [
    "file = open(output_file, \"w\")"
   ]
  },
  {
   "cell_type": "code",
   "execution_count": 102,
   "id": "mental-distinction",
   "metadata": {},
   "outputs": [],
   "source": [
    "list_pattern=[]"
   ]
  },
  {
   "cell_type": "code",
   "execution_count": 103,
   "id": "million-huntington",
   "metadata": {},
   "outputs": [],
   "source": [
    "for el in voc_supports:\n",
    "    key_list=[]\n",
    "    for e in el.split('-'):\n",
    "        key_list.append([e])\n",
    "    list_pattern.append([[key_list], [voc_supports[el]]])"
   ]
  },
  {
   "cell_type": "code",
   "execution_count": 104,
   "id": "respective-holocaust",
   "metadata": {},
   "outputs": [],
   "source": [
    "file.write('Pattern, Confidence-Frequence-Frequence %'+'\\n')\n",
    "for el in list_pattern:  \n",
    "    file.write(str(el)+ '\\n')    \n",
    "file.close() "
   ]
  },
  {
   "cell_type": "code",
   "execution_count": 105,
   "id": "acoustic-contact",
   "metadata": {},
   "outputs": [],
   "source": [
    "# delete supp\n",
    "for key in voc_supports:\n",
    "    v=voc_supports[key].split('-')\n",
    "    voc_supports[key]=v[0]+'-'+v[1]    "
   ]
  },
  {
   "cell_type": "code",
   "execution_count": 106,
   "id": "human-discharge",
   "metadata": {},
   "outputs": [],
   "source": [
    "#voc_supports"
   ]
  },
  {
   "cell_type": "code",
   "execution_count": 107,
   "id": "sorted-trail",
   "metadata": {},
   "outputs": [],
   "source": [
    "tot_list=[]\n",
    "for i, j in zip(keys,values):\n",
    "    key_list=[]\n",
    "    for el in i.split('-'):\n",
    "        key_list.append([el])\n",
    "    tot_list.append([[key_list], [j]])"
   ]
  },
  {
   "cell_type": "code",
   "execution_count": 108,
   "id": "confident-struggle",
   "metadata": {},
   "outputs": [],
   "source": [
    "confidence=[]\n",
    "for el in values:\n",
    "    #print(el.split('-')[0])\n",
    "    val=round(float(el.split('-')[0]),2)\n",
    "    confidence.append(val)\n",
    "#confidence    "
   ]
  },
  {
   "cell_type": "code",
   "execution_count": 109,
   "id": "exempt-university",
   "metadata": {},
   "outputs": [
    {
     "data": {
      "image/png": "[encoded data removed]",
      "text/plain": [
       "<Figure size 432x288 with 1 Axes>"
      ]
     },
     "metadata": {
      "needs_background": "light"
     },
     "output_type": "display_data"
    }
   ],
   "source": [
    "plt.hist(confidence)\n",
    "plt.xlabel('Confidence')\n",
    "plt.ylabel('Number of patterns')\n",
    "plt.title('3 spatial thresholds, 3 time thresholds, 1000 meters, support=0')\n",
    "plt.savefig(img_support)\n",
    "plt.show()"
   ]
  },
  {
   "cell_type": "code",
   "execution_count": 110,
   "id": "serious-offset",
   "metadata": {},
   "outputs": [
    {
     "name": "stdout",
     "output_type": "stream",
     "text": [
      "The average number of items is: 4.63209234869288\n",
      "The average number of windows is: 2.749666870348148\n",
      "The minimum number of items is: 2\n",
      "The maximum number of items is: 5\n",
      "The minimum number of windows is: 2\n",
      "The maximum number of windows is: 4\n"
     ]
    }
   ],
   "source": [
    "#how many min, max, avg items there are\n",
    "num_items=0\n",
    "num_freq_items=0\n",
    "min_items=sys.maxsize\n",
    "max_items=0\n",
    "avg_items=0\n",
    "\n",
    "num_freq_window=0\n",
    "tot_window=0\n",
    "num_patterns=0\n",
    "min_window=sys.maxsize\n",
    "max_window=0\n",
    "avg_window=0\n",
    "flag_piena=False\n",
    "flag_quasi_piena=False\n",
    "\n",
    "list_piena_quasi_piena=[]\n",
    "\n",
    "for key in voc_supports.keys():\n",
    "    flag_piena=False\n",
    "    flag_quasi_piena=False    \n",
    "    string=''\n",
    "    \n",
    "    #statistics for the windows\n",
    "    if '-' in key:\n",
    "        patterns=len(key.split('-'))\n",
    "        tot_window+=patterns      \n",
    "    else:\n",
    "        tot_window+=1\n",
    "        patterns=1\n",
    "    num_patterns+=1\n",
    "    \n",
    "    #statistics for the ìtems\n",
    "    if ('-' in key and ',' in key):\n",
    "        new_key=key       \n",
    "        new_key=new_key.replace(',', '-')               \n",
    "        items=new_key.split('-')\n",
    "        for el in items:\n",
    "            string+=el.split('_')[0]\n",
    "            if el.split('_')[0].startswith('Piena') and flag_piena==False:\n",
    "                flag_piena=True\n",
    "            elif el.split('_')[0].startswith('QuasiPiena') and flag_quasi_piena==False:\n",
    "                flag_quasi_piena=True\n",
    "      \n",
    "       \n",
    "    elif ('-' in key):\n",
    "        items=key.split('-')\n",
    "        for el in items:\n",
    "            string+=el.split('_')[0]\n",
    "            if el.split('_')[0].startswith('Piena') and flag_piena==False:\n",
    "                flag_piena=True\n",
    "            elif el.split('_')[0].startswith('QuasiPiena') and flag_quasi_piena==False:\n",
    "                flag_quasi_piena=True\n",
    "       \n",
    "    elif ( ',' in key):\n",
    "        items=key.split(',')\n",
    "        for el in items:\n",
    "            string+=el.split('_')[0]\n",
    "            if el.split('_')[0].startswith('Piena') and flag_piena==False:\n",
    "                flag_piena=True\n",
    "            elif el.split('_')[0].startswith('QuasiPiena') and flag_quasi_piena==False:\n",
    "                flag_quasi_piena=True\n",
    "      \n",
    "    else:\n",
    "        items=list(key)\n",
    "        for el in items:\n",
    "            string+=el.split('_')[0]\n",
    "            if el.split('_')[0].startswith('Piena') and flag_piena==False:\n",
    "                flag_piena=True\n",
    "            elif el.split('_')[0].startswith('QuasiPiena') and flag_quasi_piena==False:\n",
    "                flag_quasi_piena=True\n",
    "    if (flag_quasi_piena==True and flag_piena==True):       \n",
    "        #list_piena_quasi_piena.append([key])\n",
    "        key_list=[]            \n",
    "        for e in key.split('-'):\n",
    "            key_list.append([e])\n",
    "        list_piena_quasi_piena.append([[key_list], [voc_supports[key]]])\n",
    "\n",
    "    q_items=len(items) \n",
    "    if min_items>q_items:\n",
    "        min_items=q_items\n",
    "    if max_items<q_items:\n",
    "        max_items=q_items\n",
    "    freq=int(voc_supports[key].split('-')[1])\n",
    "    num_items+=freq \n",
    "    num_freq_items+=freq*q_items\n",
    "    \n",
    "    if min_window> patterns:\n",
    "        min_window=patterns\n",
    "    if max_window<patterns:\n",
    "        max_window=patterns    \n",
    "    num_freq_window+=freq*patterns  \n",
    "\n",
    "avg_window=0\n",
    "if num_items!=0:\n",
    "    avg_items=float(num_freq_items)/float(num_items)    \n",
    "    print(f'The average number of items is: {avg_items}')    \n",
    "    avg_window=float(num_freq_window)/ float(num_items)\n",
    "    print(f'The average number of windows is: {avg_window}')\n",
    "else:\n",
    "    print(f'The average number of windows is: {avg_window}')\n",
    "\n",
    "if min_items>1000:\n",
    "    min_items=0\n",
    "    min_window=0\n",
    "print(f'The minimum number of items is: {min_items}')\n",
    "print(f'The maximum number of items is: {max_items}')\n",
    "print(f'The minimum number of windows is: {min_window}')\n",
    "print(f'The maximum number of windows is: {max_window}')"
   ]
  },
  {
   "cell_type": "code",
   "execution_count": 111,
   "id": "trying-folks",
   "metadata": {},
   "outputs": [
    {
     "name": "stdout",
     "output_type": "stream",
     "text": [
      "FILTER PATTERNS WITH AT LEAST 1 EVENT QUASI PIENA AND 1 EVENT PIENA \n"
     ]
    }
   ],
   "source": [
    "print('FILTER PATTERNS WITH AT LEAST 1 EVENT QUASI PIENA AND 1 EVENT PIENA ')"
   ]
  },
  {
   "cell_type": "code",
   "execution_count": 112,
   "id": "backed-crash",
   "metadata": {},
   "outputs": [],
   "source": [
    "file2 = open(output_file2, \"w\")"
   ]
  },
  {
   "cell_type": "code",
   "execution_count": 113,
   "id": "knowing-savings",
   "metadata": {},
   "outputs": [],
   "source": [
    "lung_piena_quasipiena=0\n",
    "if len(list_piena_quasi_piena)!=0:\n",
    "    df_supports=sc.parallelize(list_piena_quasi_piena).toDF().withColumnRenamed('_1','sequence')\n",
    "    df_supports=df_supports.withColumnRenamed('_2','confidence-freq')\n",
    "    lung_piena_quasipiena=df_supports.count() \n",
    "#     df_supports.show(lung_piena_quasipiena,False)\n",
    "#     print(lung_piena_quasipiena)"
   ]
  },
  {
   "cell_type": "code",
   "execution_count": 114,
   "id": "careful-decline",
   "metadata": {},
   "outputs": [],
   "source": [
    "file2.write('Pattern, Confidence-Frequence-Frequence %'+'\\n')\n",
    "\n",
    "tot_frequence=0\n",
    "if len(list_piena_quasi_piena)!=0:    \n",
    "    for key in list_piena_quasi_piena:    \n",
    "        #print(list_piena_quasi_piena[key])\n",
    "        tmp_frequence=int(key[1][0].split('-')[1])\n",
    "        tot_frequence+=tmp_frequence\n",
    "\n",
    "if len(list_piena_quasi_piena)!=0:\n",
    "    for el in list_piena_quasi_piena:\n",
    "        perc=int(el[1][0].split('-')[1])\n",
    "        perc_value=float(\"{:.2f}\".format(perc*100/tot_frequence))\n",
    "        c='['+str(el[0])+', ['+str(el[1][0])+'-'+str(perc_value)+'%]]'\n",
    "        \n",
    "        file2.write(c+'\\n')\n",
    "file2.close()"
   ]
  },
  {
   "cell_type": "code",
   "execution_count": null,
   "id": "classical-semiconductor",
   "metadata": {},
   "outputs": [],
   "source": []
  },
  {
   "cell_type": "code",
   "execution_count": 115,
   "id": "central-battery",
   "metadata": {},
   "outputs": [
    {
     "name": "stdout",
     "output_type": "stream",
     "text": [
      "FILTER PATTERNS WITH AT LEAST 1 T0, DELTA S=0 AND AT LEAST 1 PATTERN WITH AT LEAST 1 PATTERN WITH DELTA S DIFFERENT FROM 0 AND DELTA T DIFFERENT FROM 0\n"
     ]
    }
   ],
   "source": [
    "print('FILTER PATTERNS WITH AT LEAST 1 T0, DELTA S=0 AND AT LEAST 1 PATTERN WITH AT LEAST 1 PATTERN WITH DELTA S DIFFERENT FROM 0 AND DELTA T DIFFERENT FROM 0')"
   ]
  },
  {
   "cell_type": "code",
   "execution_count": 116,
   "id": "comfortable-virgin",
   "metadata": {},
   "outputs": [],
   "source": [
    "list_influenze=[]\n",
    "for el in voc_supports.keys():\n",
    "    delta_spaziale=False\n",
    "    if ('-' in el):\n",
    "        all_windows_list=el.split('-')\n",
    "        if ('T0_0' in all_windows_list[0] ):\n",
    "            for cons_window in all_windows_list[1::]:\n",
    "                if ',' in cons_window:\n",
    "                    for item in cons_window.split(','):                       \n",
    "                        act_delta=int(item.split('_')[2])\n",
    "                        if act_delta!=0:\n",
    "                            delta_spaziale=True\n",
    "    if delta_spaziale==True:        \n",
    "        key_list=[]            \n",
    "        for e in el.split('-'):\n",
    "            key_list.append([e])\n",
    "        list_influenze.append([[key_list], [voc_supports[el]]])"
   ]
  },
  {
   "cell_type": "code",
   "execution_count": 117,
   "id": "multiple-transfer",
   "metadata": {},
   "outputs": [],
   "source": [
    "file3 = open(output_file3, \"w\")"
   ]
  },
  {
   "cell_type": "code",
   "execution_count": 118,
   "id": "rolled-cambodia",
   "metadata": {},
   "outputs": [],
   "source": [
    "lung_different_time_space=0\n",
    "if len(list_influenze)!=0:\n",
    "    df_supports=sc.parallelize(list_influenze).toDF().withColumnRenamed('_1','sequence')\n",
    "    df_supports=df_supports.withColumnRenamed('_2','confidence-freq')\n",
    "    lung_different_time_space=df_supports.count() \n",
    "    #df_supports.show(lung_different_time_space,False)\n",
    "    #print(lung_different_time_space)"
   ]
  },
  {
   "cell_type": "code",
   "execution_count": 119,
   "id": "hungry-federation",
   "metadata": {},
   "outputs": [],
   "source": [
    "file3.write('Pattern, Confidence-Frequence-Frequence %'+'\\n')\n",
    "\n",
    "tot_frequence=0\n",
    "if len(list_influenze)!=0:    \n",
    "    for key in list_influenze:    \n",
    "        tmp_frequence=int(key[1][0].split('-')[1])\n",
    "        tot_frequence+=tmp_frequence\n",
    "\n",
    "\n",
    "if len(list_influenze)!=0:\n",
    "    for el in list_influenze: \n",
    "        perc=int(el[1][0].split('-')[1])\n",
    "        perc_value=float(\"{:.2f}\".format(perc*100/tot_frequence))\n",
    "        c='['+str(el[0])+', ['+str(el[1][0])+'-'+str(perc_value)+'%]]'\n",
    "        \n",
    "        file3.write(c+'\\n')\n",
    "        \n",
    "file3.close()"
   ]
  },
  {
   "cell_type": "code",
   "execution_count": 120,
   "id": "attractive-watts",
   "metadata": {},
   "outputs": [
    {
     "name": "stdout",
     "output_type": "stream",
     "text": [
      "The number of patterns in the pre-filter is: 132141\n"
     ]
    }
   ],
   "source": [
    "print(f'The number of patterns in the pre-filter is: {len_prefix}')"
   ]
  },
  {
   "cell_type": "code",
   "execution_count": 121,
   "id": "white-proposal",
   "metadata": {},
   "outputs": [
    {
     "name": "stdout",
     "output_type": "stream",
     "text": [
      "The number of items after the filter with at least 2 windows and at least a T0 and delta 0 is: 39721\n"
     ]
    }
   ],
   "source": [
    "print(f'The number of items after the filter with at least 2 windows and at least a T0 and delta 0 is: {len(voc_supports)}')"
   ]
  },
  {
   "cell_type": "code",
   "execution_count": 122,
   "id": "accredited-office",
   "metadata": {},
   "outputs": [
    {
     "name": "stdout",
     "output_type": "stream",
     "text": [
      "STATISTICS about sequences with at least 2 windows_T0_delta0\n",
      "The average number of windows is: 2.749666870348148\n",
      "The minimum number of windows is: 2\n",
      "The maximum number of windows is: 4\n",
      "The average number of items is: 4.63209234869288\n",
      "The minimum number of items is: 2\n",
      "The maximum number of items is: 5\n"
     ]
    }
   ],
   "source": [
    "print('STATISTICS about sequences with at least 2 windows_T0_delta0')\n",
    "print(f'The average number of windows is: {avg_window}')\n",
    "print(f'The minimum number of windows is: {min_window}')\n",
    "print(f'The maximum number of windows is: {max_window}')\n",
    "print(f'The average number of items is: {avg_items}')\n",
    "print(f'The minimum number of items is: {min_items}')\n",
    "print(f'The maximum number of items is: {max_items}')"
   ]
  },
  {
   "cell_type": "code",
   "execution_count": 123,
   "id": "painful-textbook",
   "metadata": {},
   "outputs": [
    {
     "name": "stdout",
     "output_type": "stream",
     "text": [
      "The number of patterns in which there is at least one item that repeats within a window is: 11518 \n"
     ]
    }
   ],
   "source": [
    "print(f'The number of patterns in which there is at least one item that repeats within a window is: {repeated_el_window} ')"
   ]
  },
  {
   "cell_type": "code",
   "execution_count": 124,
   "id": "verified-ireland",
   "metadata": {},
   "outputs": [
    {
     "name": "stdout",
     "output_type": "stream",
     "text": [
      "The number of patterns with at least 1 event QuasiPiena and 1 event Piena is: 36765\n"
     ]
    }
   ],
   "source": [
    "print(f'The number of patterns with at least 1 event QuasiPiena and 1 event Piena is: {lung_piena_quasipiena}')"
   ]
  },
  {
   "cell_type": "code",
   "execution_count": 125,
   "id": "distinct-filing",
   "metadata": {},
   "outputs": [
    {
     "name": "stdout",
     "output_type": "stream",
     "text": [
      "The number of patterns with at least 1 T0, DELTA S=0 and at least 1 pattern with at least 1 pattern with DELTA S different from 0 and DELTA T different from 0 is: 26904\n"
     ]
    }
   ],
   "source": [
    " print(f'The number of patterns with at least 1 T0, DELTA S=0 and at least 1 pattern with at least 1 pattern with DELTA S different from 0 and DELTA T different from 0 is: {lung_different_time_space}')"
   ]
  },
  {
   "cell_type": "code",
   "execution_count": 126,
   "id": "honey-guidance",
   "metadata": {},
   "outputs": [
    {
     "name": "stdout",
     "output_type": "stream",
     "text": [
      "The time of execution is: 319.2218780517578 s\n"
     ]
    }
   ],
   "source": [
    "end = time.time()\n",
    "print(f'The time of execution is: {end-start} s')"
   ]
  },
  {
   "cell_type": "code",
   "execution_count": null,
   "id": "physical-chinese",
   "metadata": {},
   "outputs": [],
   "source": []
  }
 ],
 "metadata": {
  "kernelspec": {
   "display_name": "PySpark (Yarn)",
   "language": "python",
   "name": "pyspark_yarn"
  },
  "language_info": {
   "codemirror_mode": {
    "name": "ipython",
    "version": 3
   },
   "file_extension": ".py",
   "mimetype": "text/x-python",
   "name": "python",
   "nbconvert_exporter": "python",
   "pygments_lexer": "ipython3",
   "version": "3.7.9"
  }
 },
 "nbformat": 4,
 "nbformat_minor": 5
}
